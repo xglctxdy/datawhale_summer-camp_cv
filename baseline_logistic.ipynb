{
 "cells": [
  {
   "cell_type": "code",
   "execution_count": 21,
   "metadata": {
    "collapsed": true,
    "ExecuteTime": {
     "end_time": "2023-07-21T09:09:25.373311Z",
     "start_time": "2023-07-21T09:09:25.359587900Z"
    }
   },
   "outputs": [],
   "source": [
    "import glob  # 获取文件路径\n",
    "import numpy as np\n",
    "import pandas as pd\n",
    "import nibabel as nib  # 处理医学图像数据\n",
    "from nibabel.viewers import OrthoSlicer3D  # 图像可视化\n",
    "from collections import Counter  # 计数统计"
   ]
  },
  {
   "cell_type": "code",
   "execution_count": 22,
   "outputs": [],
   "source": [
    "# 读取训练集文件路径\n",
    "train_path = glob.glob('./脑PET图像分析和疾病预测挑战赛数据集/Train/*/*')\n",
    "test_path = glob.glob('./脑PET图像分析和疾病预测挑战赛数据集/Test/*')\n",
    "# 打乱训练集和测试集的顺序\n",
    "np.random.shuffle(train_path)\n",
    "np.random.shuffle(test_path)"
   ],
   "metadata": {
    "collapsed": false,
    "ExecuteTime": {
     "end_time": "2023-07-21T09:09:25.861722700Z",
     "start_time": "2023-07-21T09:09:25.839495400Z"
    }
   }
  },
  {
   "cell_type": "code",
   "execution_count": 24,
   "outputs": [],
   "source": [
    "def extract_feature(path):\n",
    "    # 加载PET图像数据\n",
    "    img = nib.load(path)\n",
    "    # 获取第一个通道的数据\n",
    "    # print(img.shape)\n",
    "    img = img.dataobj[:, :, :, 0]\n",
    "    # print(img.shape)\n",
    "    # 随机筛选其中的10个通道提取特征\n",
    "    random_img = img[:, :, np.random.choice(range(img.shape[2]), 30)]\n",
    "    # print(random_img.shape)\n",
    "    # 对图片计算统计值\n",
    "    feat = [\n",
    "        (random_img != 0).sum(),  # 非零像素的数量\n",
    "        (random_img == 0).sum(),  # 零像素的数量\n",
    "        random_img.mean(),  # 平均值\n",
    "        random_img.std(),  # 标准差\n",
    "        len(np.where(random_img.mean(0))[0]),  # 在列方向上平均值不为零的数量\n",
    "        len(np.where(random_img.mean(1))[0]),  # 在行方向上平均值不为零的数量\n",
    "        random_img.mean(0).max(),  # 列方向上的最大平均值\n",
    "        random_img.mean(1).max()  # 行方向上的最大平均值\n",
    "    ]\n",
    "\n",
    "    # 根据路径判断样本类别（'NC'表示正常，'MCI'表示异常）\n",
    "    if 'NC' in path:\n",
    "        return feat + ['NC']\n",
    "    else:\n",
    "        return feat + ['MCI']"
   ],
   "metadata": {
    "collapsed": false,
    "ExecuteTime": {
     "end_time": "2023-07-21T09:09:38.238164800Z",
     "start_time": "2023-07-21T09:09:38.224099900Z"
    }
   }
  },
  {
   "cell_type": "code",
   "execution_count": 25,
   "outputs": [
    {
     "data": {
      "text/plain": "LogisticRegression(max_iter=1000)",
      "text/html": "<style>#sk-container-id-2 {color: black;background-color: white;}#sk-container-id-2 pre{padding: 0;}#sk-container-id-2 div.sk-toggleable {background-color: white;}#sk-container-id-2 label.sk-toggleable__label {cursor: pointer;display: block;width: 100%;margin-bottom: 0;padding: 0.3em;box-sizing: border-box;text-align: center;}#sk-container-id-2 label.sk-toggleable__label-arrow:before {content: \"▸\";float: left;margin-right: 0.25em;color: #696969;}#sk-container-id-2 label.sk-toggleable__label-arrow:hover:before {color: black;}#sk-container-id-2 div.sk-estimator:hover label.sk-toggleable__label-arrow:before {color: black;}#sk-container-id-2 div.sk-toggleable__content {max-height: 0;max-width: 0;overflow: hidden;text-align: left;background-color: #f0f8ff;}#sk-container-id-2 div.sk-toggleable__content pre {margin: 0.2em;color: black;border-radius: 0.25em;background-color: #f0f8ff;}#sk-container-id-2 input.sk-toggleable__control:checked~div.sk-toggleable__content {max-height: 200px;max-width: 100%;overflow: auto;}#sk-container-id-2 input.sk-toggleable__control:checked~label.sk-toggleable__label-arrow:before {content: \"▾\";}#sk-container-id-2 div.sk-estimator input.sk-toggleable__control:checked~label.sk-toggleable__label {background-color: #d4ebff;}#sk-container-id-2 div.sk-label input.sk-toggleable__control:checked~label.sk-toggleable__label {background-color: #d4ebff;}#sk-container-id-2 input.sk-hidden--visually {border: 0;clip: rect(1px 1px 1px 1px);clip: rect(1px, 1px, 1px, 1px);height: 1px;margin: -1px;overflow: hidden;padding: 0;position: absolute;width: 1px;}#sk-container-id-2 div.sk-estimator {font-family: monospace;background-color: #f0f8ff;border: 1px dotted black;border-radius: 0.25em;box-sizing: border-box;margin-bottom: 0.5em;}#sk-container-id-2 div.sk-estimator:hover {background-color: #d4ebff;}#sk-container-id-2 div.sk-parallel-item::after {content: \"\";width: 100%;border-bottom: 1px solid gray;flex-grow: 1;}#sk-container-id-2 div.sk-label:hover label.sk-toggleable__label {background-color: #d4ebff;}#sk-container-id-2 div.sk-serial::before {content: \"\";position: absolute;border-left: 1px solid gray;box-sizing: border-box;top: 0;bottom: 0;left: 50%;z-index: 0;}#sk-container-id-2 div.sk-serial {display: flex;flex-direction: column;align-items: center;background-color: white;padding-right: 0.2em;padding-left: 0.2em;position: relative;}#sk-container-id-2 div.sk-item {position: relative;z-index: 1;}#sk-container-id-2 div.sk-parallel {display: flex;align-items: stretch;justify-content: center;background-color: white;position: relative;}#sk-container-id-2 div.sk-item::before, #sk-container-id-2 div.sk-parallel-item::before {content: \"\";position: absolute;border-left: 1px solid gray;box-sizing: border-box;top: 0;bottom: 0;left: 50%;z-index: -1;}#sk-container-id-2 div.sk-parallel-item {display: flex;flex-direction: column;z-index: 1;position: relative;background-color: white;}#sk-container-id-2 div.sk-parallel-item:first-child::after {align-self: flex-end;width: 50%;}#sk-container-id-2 div.sk-parallel-item:last-child::after {align-self: flex-start;width: 50%;}#sk-container-id-2 div.sk-parallel-item:only-child::after {width: 0;}#sk-container-id-2 div.sk-dashed-wrapped {border: 1px dashed gray;margin: 0 0.4em 0.5em 0.4em;box-sizing: border-box;padding-bottom: 0.4em;background-color: white;}#sk-container-id-2 div.sk-label label {font-family: monospace;font-weight: bold;display: inline-block;line-height: 1.2em;}#sk-container-id-2 div.sk-label-container {text-align: center;}#sk-container-id-2 div.sk-container {/* jupyter's `normalize.less` sets `[hidden] { display: none; }` but bootstrap.min.css set `[hidden] { display: none !important; }` so we also need the `!important` here to be able to override the default hidden behavior on the sphinx rendered scikit-learn.org. See: https://github.com/scikit-learn/scikit-learn/issues/21755 */display: inline-block !important;position: relative;}#sk-container-id-2 div.sk-text-repr-fallback {display: none;}</style><div id=\"sk-container-id-2\" class=\"sk-top-container\"><div class=\"sk-text-repr-fallback\"><pre>LogisticRegression(max_iter=1000)</pre><b>In a Jupyter environment, please rerun this cell to show the HTML representation or trust the notebook. <br />On GitHub, the HTML representation is unable to render, please try loading this page with nbviewer.org.</b></div><div class=\"sk-container\" hidden><div class=\"sk-item\"><div class=\"sk-estimator sk-toggleable\"><input class=\"sk-toggleable__control sk-hidden--visually\" id=\"sk-estimator-id-2\" type=\"checkbox\" checked><label for=\"sk-estimator-id-2\" class=\"sk-toggleable__label sk-toggleable__label-arrow\">LogisticRegression</label><div class=\"sk-toggleable__content\"><pre>LogisticRegression(max_iter=1000)</pre></div></div></div></div></div>"
     },
     "execution_count": 25,
     "metadata": {},
     "output_type": "execute_result"
    }
   ],
   "source": [
    "# 对训练集进行30次特征提取，每次提取后的特征以及类别（'NC'表示正常，'MCI'表示异常）被添加到train_feat列表中。\n",
    "train_feat = []\n",
    "for _ in range(30):\n",
    "    for path in train_path:\n",
    "        train_feat.append(extract_feature(path))\n",
    "\n",
    "# 对测试集进行30次特征提取\n",
    "test_feat = []\n",
    "for _ in range(30):\n",
    "    for path in test_path:\n",
    "        test_feat.append(extract_feature(path))\n",
    "\n",
    "# 使用训练集的特征作为输入，训练集的类别作为输出，对逻辑回归模型进行训练。\n",
    "from sklearn.linear_model import LogisticRegression\n",
    "\n",
    "m = LogisticRegression(max_iter=1000)\n",
    "m.fit(\n",
    "    np.array(train_feat)[:, :-1].astype(np.float32),  # 特征\n",
    "    np.array(train_feat)[:, -1]\n",
    ")  # 类别"
   ],
   "metadata": {
    "collapsed": false,
    "ExecuteTime": {
     "end_time": "2023-07-21T09:10:27.371327Z",
     "start_time": "2023-07-21T09:09:45.029670500Z"
    }
   }
  },
  {
   "cell_type": "code",
   "execution_count": 26,
   "outputs": [],
   "source": [
    "# 对测试集进行预测并进行转置操作，使得每个样本有30次预测结果。\n",
    "test_pred = m.predict(np.array(test_feat)[:, :-1].astype(np.float32))\n",
    "test_pred = test_pred.reshape(30, -1).T\n",
    "\n",
    "# 对每个样本的30次预测结果进行投票，选出最多的类别作为该样本的最终预测类别，存储在test_pred_label列表中。\n",
    "test_pred_label = [Counter(x).most_common(1)[0][0] for x in test_pred]\n",
    "\n",
    "# 生成提交结果的DataFrame，其中包括样本ID和预测类别。\n",
    "submit = pd.DataFrame(\n",
    "    {\n",
    "        'uuid': [int(x.split('\\\\')[-1][:-4]) for x in test_path],  # 提取测试集文件名中的ID\n",
    "        'label': test_pred_label                                  # 预测的类别\n",
    "    }\n",
    ")\n",
    "\n",
    "# 按照ID对结果排序并保存为CSV文件\n",
    "submit = submit.sort_values(by='uuid')\n",
    "submit.to_csv('submit.csv', index=None)"
   ],
   "metadata": {
    "collapsed": false,
    "ExecuteTime": {
     "end_time": "2023-07-21T09:10:30.516038200Z",
     "start_time": "2023-07-21T09:10:30.489045400Z"
    }
   }
  },
  {
   "cell_type": "code",
   "execution_count": null,
   "outputs": [],
   "source": [],
   "metadata": {
    "collapsed": false
   }
  }
 ],
 "metadata": {
  "kernelspec": {
   "display_name": "Python 3",
   "language": "python",
   "name": "python3"
  },
  "language_info": {
   "codemirror_mode": {
    "name": "ipython",
    "version": 2
   },
   "file_extension": ".py",
   "mimetype": "text/x-python",
   "name": "python",
   "nbconvert_exporter": "python",
   "pygments_lexer": "ipython2",
   "version": "2.7.6"
  }
 },
 "nbformat": 4,
 "nbformat_minor": 0
}
