{
 "cells": [
  {
   "cell_type": "code",
   "execution_count": 1,
   "metadata": {
    "collapsed": true,
    "ExecuteTime": {
     "end_time": "2023-07-30T07:11:58.626455400Z",
     "start_time": "2023-07-30T07:11:55.445535100Z"
    }
   },
   "outputs": [],
   "source": [
    "import os, sys, glob, argparse\n",
    "import pandas as pd\n",
    "import numpy as np\n",
    "from tqdm import tqdm\n",
    "import cv2\n",
    "from PIL import Image\n",
    "from sklearn.model_selection import train_test_split, StratifiedKFold, KFold\n",
    "import torch\n",
    "import torchvision.models as models\n",
    "import torchvision.transforms as transforms\n",
    "import torchvision.datasets as datasets\n",
    "import torch.nn as nn\n",
    "import torch.nn.functional as F\n",
    "import torch.optim as optim\n",
    "from torch.autograd import Variable\n",
    "from torch.utils.data.dataset import Dataset\n",
    "import nibabel as nib\n",
    "from nibabel.viewers import OrthoSlicer3D\n",
    "import numpy as np\n",
    "import torch\n",
    "import torch.nn as nn\n",
    "import torchvision.transforms as transforms\n",
    "from PIL import Image\n",
    "from torch.utils.data import ConcatDataset, DataLoader, Subset\n",
    "from torchvision.datasets import DatasetFolder\n",
    "from tqdm.auto import tqdm\n",
    "import matplotlib.pyplot as plt\n",
    "import torchvision\n",
    "from torch.utils.data import Dataset\n",
    "\n",
    "torch.manual_seed(0)\n",
    "torch.backends.cudnn.deterministic = False\n",
    "torch.backends.cudnn.benchmark = True"
   ]
  },
  {
   "cell_type": "code",
   "execution_count": 2,
   "outputs": [],
   "source": [
    "# 数据增强\n",
    "train_tfm = transforms.Compose([\n",
    "    # 中心裁剪\n",
    "    transforms.Resize((112, 112)),\n",
    "    # You may add some transforms here.\n",
    "    # ToTensor() should be the last one of the transforms.\n",
    "    # 随机水平翻转和垂直翻转\n",
    "    transforms.RandomHorizontalFlip(p=0.5),\n",
    "    transforms.RandomVerticalFlip(p=0.5),\n",
    "    transforms.RandomRotation(30),\n",
    "    # 亮度颜色调整\n",
    "    transforms.ColorJitter(brightness=0.2, contrast=0.2, saturation=0.2, hue=0.1),\n",
    "    transforms.ToTensor(),\n",
    "    transforms.Normalize(mean=(0.5, 0.5, 0.5), std=(0.5, 0.5, 0.5))\n",
    "])\n",
    "\n",
    "# 创建一个变换对象，随机对图像进行中心裁剪\n",
    "transform_center_crop = transforms.Compose([\n",
    "    transforms.CenterCrop(256),\n",
    "    transforms.Resize((112, 112)),\n",
    "    transforms.ToTensor(),\n",
    "    transforms.Normalize(mean=(0.5, 0.5, 0.5), std=(0.5, 0.5, 0.5))\n",
    "])\n",
    "\n",
    "# 在测试集中不需要做过多的调整\n",
    "test_tfm = transforms.Compose([\n",
    "    transforms.Resize((112, 112)),\n",
    "    transforms.ToTensor(),\n",
    "    transforms.Normalize(mean=(0.5, 0.5, 0.5), std=(0.5, 0.5, 0.5))\n",
    "])"
   ],
   "metadata": {
    "collapsed": false,
    "ExecuteTime": {
     "end_time": "2023-07-30T07:12:00.675980500Z",
     "start_time": "2023-07-30T07:12:00.655189900Z"
    }
   }
  },
  {
   "cell_type": "code",
   "execution_count": 25,
   "outputs": [],
   "source": [
    "# 通过datasetfolder从文件夹中加载数据，在通过dataloader创建数据迭代器\n",
    "batch_size = 64\n",
    "\n",
    "\n",
    "def fillcrop(img):  # 把第一次裁剪的图片填充为正方形，避免resize时会改变比例\n",
    "    img = np.array(img)\n",
    "\n",
    "    # 以最长的一边为边长，把短的边补为一样长，做成正方形，避免resize时会改变大脑的比例\n",
    "    down = img.shape[0]  # 行数\n",
    "    up = img.shape[1]  # 列数\n",
    "    max1 = max(down, up)  # 比较行数和列数哪个大，来决定以谁作为正方形的边长\n",
    "    down = (max1 - down) // 2  # 整除，大的值必然为0，而小的需要补上相应的值。比方说down更大，则赋值以后down为0，表示行不需要填充像素点\n",
    "    up = (max1 - up) // 2\n",
    "    down_zuo, down_you = down, down\n",
    "    up_zuo, up_you = up, up\n",
    "\n",
    "    if (max1 - img.shape[0]) % 2 != 0:  # 考虑奇数的情况，若为奇数则需要在行的左边多加一列\n",
    "        down_zuo = down_zuo + 1\n",
    "    if (max1 - img.shape[1]) % 2 != 0:\n",
    "        up_zuo = up_zuo + 1\n",
    "    matrix_pad = np.pad(img, pad_width=((down_zuo, down_you),  # 向上填充1个维度，向下填充两个维度\n",
    "                                        (up_zuo, up_you)),  # 向左填充2个维度，向右填充一个维度\n",
    "                        mode=\"constant\",  # 填充模式\n",
    "                        constant_values=(0, 0))  # 第一个维度（就是向上和向左）填充6，第二个维度（向下和向右）填充5\n",
    "    return matrix_pad\n",
    "\n",
    "\n",
    "def precrop(image_data):  # 初次裁剪大脑\n",
    "    scaled_data = (image_data - np.min(image_data)) / (np.max(image_data) - np.min(image_data)) * 255\n",
    "    img = np.uint8(scaled_data)\n",
    "\n",
    "    index = np.where(img > 50)  # 找出像素值大于50的所以像素值的坐标，也就是获取表示大脑部分的像素的索引\n",
    "    x = index[0]  # 获取所有表示大脑部分的像素的横坐标\n",
    "    y = index[1]  # 获取所有表示大脑部分的像素的纵坐标\n",
    "    max_x = max(x)  # 横坐标的最大值表示有边界，其余同理\n",
    "    min_x = min(x)\n",
    "    max_y = max(y)\n",
    "    min_y = min(y)\n",
    "    max_x = max_x + 10  # +10是为了多裁剪一部分黑色的区域，防止可以有部分边缘的大脑未被裁剪\n",
    "    min_x = min_x - 10\n",
    "    max_y = max_y + 10\n",
    "    min_y = min_y - 10\n",
    "    if max_x > img.shape[0]:\n",
    "        max_x = img.shape[0]\n",
    "    if min_x < 0:\n",
    "        min_x = 0\n",
    "    if max_y > img.shape[1]:\n",
    "        max_y = img.shape[1]\n",
    "    if min_y < 0:\n",
    "        min_y = 0\n",
    "    img = img[min_x:max_x, min_y:max_y]\n",
    "    return fillcrop(img)\n",
    "\n",
    "\n",
    "def load_image(filepath):\n",
    "    with open(filepath, 'rb') as f:\n",
    "        img = Image.open(f)\n",
    "        # 将图片转化为numpy数组\n",
    "        img = np.array(img)\n",
    "        img = img.astype(np.float32)\n",
    "        # 对这个numpy数组进行裁剪填充等操作\n",
    "        img = precrop(img)\n",
    "        # 将这个数组在转为图片，并将其转为rgb模式（升维）\n",
    "        return Image.fromarray(img).convert('RGB')\n",
    "\n",
    "\n",
    "# Construct datasets.\n",
    "# The argument \"loader\" tells how torchvision reads the data.\n",
    "path = './PETjpg/'\n",
    "train_set = DatasetFolder(path + \"train\", loader=load_image, extensions=\"jpg\",\n",
    "                          transform=train_tfm)\n",
    "valid_set = DatasetFolder(path + \"val\", loader=load_image, extensions=\"jpg\",\n",
    "                          transform=test_tfm)\n",
    "test_set = DatasetFolder(path + \"test\", loader=load_image, extensions=\"jpg\",\n",
    "                         transform=test_tfm)\n",
    "\n",
    "train_set1 = DatasetFolder(path + \"train\", loader=load_image, extensions=\"jpg\",\n",
    "                           transform=test_tfm)\n",
    "train_set2 = DatasetFolder(path + \"train\", loader=load_image, extensions=\"jpg\",\n",
    "                           transform=transform_center_crop)\n",
    "\n",
    "concat_dataset = ConcatDataset([train_set, train_set1, train_set2])\n",
    "# Construct data loaders.\n",
    "train_loader = DataLoader(concat_dataset, batch_size=batch_size, shuffle=True, num_workers=0, pin_memory=False)\n",
    "valid_loader = DataLoader(valid_set, batch_size=batch_size, shuffle=True, num_workers=0, pin_memory=False)\n",
    "test_loader = DataLoader(test_set, batch_size=batch_size, shuffle=True, num_workers=0, pin_memory=False)"
   ],
   "metadata": {
    "collapsed": false,
    "ExecuteTime": {
     "end_time": "2023-07-30T07:17:34.979592100Z",
     "start_time": "2023-07-30T07:17:34.941364900Z"
    }
   }
  },
  {
   "cell_type": "code",
   "execution_count": 32,
   "outputs": [],
   "source": [
    "class XunFeiNet(nn.Module):\n",
    "    def __init__(self):\n",
    "        super(XunFeiNet, self).__init__()\n",
    "\n",
    "        model = models.resnet34(True)\n",
    "        model.conv1 = torch.nn.Conv2d(3, 64, kernel_size=(3, 3), stride=(2, 2), padding=(3, 3), bias=False)\n",
    "        model.avgpool = nn.AdaptiveAvgPool2d(1)\n",
    "        model.fc = nn.Sequential(\n",
    "            nn.ReLU(),\n",
    "            nn.Linear(512, 2)\n",
    "        )\n",
    "        self.resnet = model\n",
    "\n",
    "    def forward(self, img):\n",
    "        out = self.resnet(img)\n",
    "        return out"
   ],
   "metadata": {
    "collapsed": false,
    "ExecuteTime": {
     "end_time": "2023-07-30T07:18:04.340588600Z",
     "start_time": "2023-07-30T07:18:04.336369800Z"
    }
   }
  },
  {
   "cell_type": "code",
   "execution_count": 33,
   "outputs": [],
   "source": [
    "class mydataset(Dataset):\n",
    "    def __init__(self, data, transform=None, target_transform=None):\n",
    "        self.data = data\n",
    "        self.transform = transform\n",
    "        self.target_transform = target_transform\n",
    "\n",
    "    def __len__(self):\n",
    "        return len(self.data)\n",
    "\n",
    "    def __getitem__(self, index):\n",
    "        img, target = self.data[index]\n",
    "        # Apply transformations if given.\n",
    "        if self.transform is not None:\n",
    "            img = self.transform(img)\n",
    "        if self.target_transform is not None:\n",
    "            target = self.target_transform(target)\n",
    "        return img, target\n",
    "\n",
    "\n",
    "pseudo = []\n",
    "\n",
    "\n",
    "def get_pseudo_labels(dataset, model, threshold=0.8):\n",
    "    #这个函数使用给定的模型生成数据集的伪标签。\n",
    "    #它返回一个DatasetFolder实例，其中包含预测置信度超过给定阈值的图像。\n",
    "    # 存储当前每个样本的置信度\n",
    "    cur_pseudo = []\n",
    "    device = \"cuda\" if torch.cuda.is_available() else \"cpu\"\n",
    "    # 将模型切换为评估模式\n",
    "    model.eval()\n",
    "    # 在最后一个维度上进行softmax\n",
    "    softmax = nn.Softmax(dim=-1)\n",
    "    unlabeled_loader = DataLoader(dataset, batch_size=batch_size, shuffle=False, num_workers=0, pin_memory=False)\n",
    "    new_data = []\n",
    "    # Iterate over the dataset by batches.\n",
    "    for batch in tqdm(unlabeled_loader):\n",
    "        img, _ = batch\n",
    "        with torch.no_grad():\n",
    "            logits = model(img.to(device))\n",
    "        # 通过对logits应用softmax得到概率分布\n",
    "        probs = softmax(logits)\n",
    "        # ---------- TODO ----------\n",
    "        # 如果预测概率超过阈值，则将图像和标签添加到新数据集中\n",
    "        for i in range(len(probs)):\n",
    "            label, prob = torch.argmax(probs[i]), torch.max(probs[i])\n",
    "            cur_pseudo.append(float(prob))\n",
    "            if prob > threshold:\n",
    "                new_data.append((img[i], int(label)))\n",
    "        # Filter the data and construct a new dataset.\n",
    "    new_dataset = mydataset(new_data)\n",
    "    print(\"新数据集已经筛选完成，共筛选出\", len(new_dataset), \"个未打标签的样本加入训练\")\n",
    "    pseudo.append(cur_pseudo)\n",
    "    # 将模型切换为训练模式\n",
    "    model.train()\n",
    "    return new_dataset"
   ],
   "metadata": {
    "collapsed": false,
    "ExecuteTime": {
     "end_time": "2023-07-30T07:18:06.052445Z",
     "start_time": "2023-07-30T07:18:06.036506500Z"
    }
   }
  },
  {
   "cell_type": "code",
   "execution_count": 34,
   "outputs": [],
   "source": [
    "device = \"cuda\" if torch.cuda.is_available() else \"cpu\"\n",
    "# Initialize a model, and put it on the device specified.\n",
    "\n",
    "model = XunFeiNet().to(device)\n",
    "model.device = device\n",
    "\n",
    "# 加载之前训练好的模型参数\n",
    "weights_path = None\n",
    "if weights_path:\n",
    "    state_dict = torch.load(weights_path)\n",
    "    model.load_state_dict(state_dict)\n",
    "\n",
    "\n",
    "# 自定义的带标签平滑的损失函数\n",
    "class LabelSmoothing(nn.Module):\n",
    "    def __init__(self, smoothing=0.1):\n",
    "        super(LabelSmoothing, self).__init__()\n",
    "        self.confidence = 1.0 - smoothing\n",
    "        self.smoothing = smoothing\n",
    "        # 此处的self.smoothing即我们的epsilon平滑参数。\n",
    "\n",
    "    def forward(self, x, target):\n",
    "        # 此处x的shape应该是(batch size * class数量)，所以这里在class数量那个维度做了logsoftmax。\n",
    "        logprobs = torch.nn.functional.log_softmax(x, dim=-1)\n",
    "        # 此处的target的shape是(batch size), 应该就是每个training data的数字标签。\n",
    "        # 这里unsqueeze之后，就是(batch size * 1 )\n",
    "        nll_loss = -logprobs.gather(dim=-1, index=target.unsqueeze(1))\n",
    "        # 把输出的shape变回(batch size)\n",
    "        nll_loss = nll_loss.squeeze(1)\n",
    "        smooth_loss = -logprobs.mean(dim=-1)\n",
    "        loss = self.confidence * nll_loss + self.smoothing * smooth_loss\n",
    "        return loss.mean()\n",
    "\n",
    "\n",
    "# For the classification task, we use cross-entropy as the measurement of performance.\n",
    "# criterion = nn.CrossEntropyLoss()\n",
    "criterion = LabelSmoothing()\n",
    "criterion1 = nn.MSELoss()\n",
    "\n",
    "# Initialize optimizer, you may fine-tune some hyperparameters such as learning rate on your own.\n",
    "optimizer = torch.optim.Adam(model.parameters(), lr=0.0001, weight_decay=1e-5)\n",
    "n_epoch = 30\n",
    "# 是否要进行半监督学习\n",
    "do_semi = False"
   ],
   "metadata": {
    "collapsed": false,
    "ExecuteTime": {
     "end_time": "2023-07-30T07:18:08.093737200Z",
     "start_time": "2023-07-30T07:18:07.804557600Z"
    }
   }
  },
  {
   "cell_type": "code",
   "execution_count": 35,
   "outputs": [],
   "source": [
    "def one_hot_encode(labels, num_classes):\n",
    "    one_hot_labels = torch.zeros(labels.size(0), num_classes)\n",
    "    # 使用scatter函数进行one-hot编码\n",
    "    one_hot_labels.scatter_(1, labels.view(-1, 1), 1)\n",
    "    return one_hot_labels\n",
    "\n",
    "\n",
    "total_train_loss = []\n",
    "total_val_loss = []\n",
    "total_train_loss1 = []\n",
    "total_val_loss1 = []\n",
    "\n",
    "total_train_acc = []\n",
    "total_val_acc = []\n",
    "\n",
    "# 最小的验证集loss\n",
    "min_val_loss = -1000"
   ],
   "metadata": {
    "collapsed": false,
    "ExecuteTime": {
     "end_time": "2023-07-30T07:18:08.112825900Z",
     "start_time": "2023-07-30T07:18:08.096919Z"
    }
   }
  },
  {
   "cell_type": "code",
   "execution_count": 36,
   "outputs": [],
   "source": [
    "def train(n_epochs=n_epoch):\n",
    "    global train_loader, valid_loader, min_val_loss\n",
    "    for epoch in range(n_epochs):\n",
    "        # 当开始进行半监督时，将min_val_loss重置\n",
    "        if epoch == n_epochs / 2 and do_semi:\n",
    "            min_val_loss = -1000\n",
    "        # 在每个epoch中，为半监督学习重新标记未标记的数据集。\n",
    "        # 然后你可以将标记数据集和伪标记数据集结合起来进行训练。\n",
    "        if epoch > (n_epochs / 2) and do_semi:\n",
    "            # 使用训练模型获取未标记数据的伪标签。\n",
    "            pseudo_set = get_pseudo_labels(test_set, model)\n",
    "            concat_dataset = ConcatDataset([train_set, pseudo_set])\n",
    "            train_loader = DataLoader(concat_dataset, batch_size=batch_size, shuffle=True, num_workers=0,\n",
    "                                      pin_memory=True)\n",
    "\n",
    "        model.train()\n",
    "\n",
    "        train_loss = []\n",
    "        train_loss1 = []\n",
    "        train_accs = []\n",
    "\n",
    "        # Iterate the training set by batches.\n",
    "        for batch in tqdm(train_loader):\n",
    "            imgs, labels = batch\n",
    "            logits = model(imgs.to(device))\n",
    "            loss = criterion(logits, labels.to(device))\n",
    "            loss1 = criterion1(logits, one_hot_encode(labels, 2).to(device))\n",
    "            optimizer.zero_grad()\n",
    "            loss.backward()\n",
    "            optimizer.step()\n",
    "            acc = (logits.argmax(dim=-1) == labels.to(device)).float().mean()\n",
    "            train_loss.append(loss.item())\n",
    "            train_loss1.append((loss1.item()))\n",
    "            train_accs.append(acc)\n",
    "\n",
    "        # The average loss and accuracy of the training set is the average of the recorded values.\n",
    "        train_loss = sum(train_loss) / len(train_loss)\n",
    "        train_loss1 = sum(train_loss1) / len(train_loss1)\n",
    "        train_acc = sum(train_accs) / len(train_accs)\n",
    "\n",
    "        total_train_loss.append(float(train_loss))\n",
    "        total_train_loss1.append(float(train_loss1))\n",
    "        total_train_acc.append(float(train_acc))\n",
    "        # Print the information.\n",
    "        print(f\"[ Train | {epoch + 1:03d}/{n_epochs:03d} ] loss = {train_loss:.5f}, acc = {train_acc:.5f}\")\n",
    "\n",
    "        model.eval()\n",
    "\n",
    "        # These are used to record information in validation.\n",
    "        valid_loss = []\n",
    "        valid_loss1 = []\n",
    "        valid_accs = []\n",
    "\n",
    "        # Iterate the validation set by batches.\n",
    "        for batch in valid_loader:\n",
    "            imgs, labels = batch\n",
    "            with torch.no_grad():\n",
    "                logits = model(imgs.to(device))\n",
    "            loss = criterion(logits, labels.to(device))\n",
    "            loss1 = criterion1(logits, one_hot_encode(labels, 2).to(device))\n",
    "            acc = (logits.argmax(dim=-1) == labels.to(device)).float().mean()\n",
    "            valid_loss.append(loss.item())\n",
    "            valid_loss1.append((loss1.item()))\n",
    "            valid_accs.append(acc)\n",
    "\n",
    "        # The average loss and accuracy for entire validation set is the average of the recorded values.\n",
    "        valid_loss = sum(valid_loss) / len(valid_loss)\n",
    "        valid_loss1 = sum(valid_loss1) / len(valid_loss1)\n",
    "        valid_acc = sum(valid_accs) / len(valid_accs)\n",
    "\n",
    "        total_val_loss.append(float(valid_loss))\n",
    "        total_val_loss1.append((float(valid_loss1)))\n",
    "        total_val_acc.append(float(valid_acc))\n",
    "        # Print the information.\n",
    "        print(f\"[ Valid | {epoch + 1:03d}/{n_epochs:03d} ] loss = {valid_loss:.5f}, acc = {valid_acc:.5f}\")\n",
    "\n",
    "        # save the model:\n",
    "        model_score = valid_loss * -0.5 + valid_acc * 0.8\n",
    "        if model_score > min_val_loss:\n",
    "            min_val_loss = model_score\n",
    "            torch.save(model.state_dict(), './weight/{}loss_{:.3f}_acc_{:.3f}.pth'.format(epoch, valid_loss, valid_acc))"
   ],
   "metadata": {
    "collapsed": false,
    "ExecuteTime": {
     "end_time": "2023-07-30T07:18:09.988754300Z",
     "start_time": "2023-07-30T07:18:09.972822700Z"
    }
   }
  },
  {
   "cell_type": "code",
   "execution_count": 37,
   "outputs": [
    {
     "data": {
      "text/plain": "  0%|          | 0/120 [00:00<?, ?it/s]",
      "application/vnd.jupyter.widget-view+json": {
       "version_major": 2,
       "version_minor": 0,
       "model_id": "d093bf717f5641f0b0dd360f29de7142"
      }
     },
     "metadata": {},
     "output_type": "display_data"
    },
    {
     "name": "stdout",
     "output_type": "stream",
     "text": [
      "[ Train | 001/030 ] loss = 0.53239, acc = 0.75805\n",
      "[ Valid | 001/030 ] loss = 0.63874, acc = 0.69940\n"
     ]
    },
    {
     "data": {
      "text/plain": "  0%|          | 0/120 [00:00<?, ?it/s]",
      "application/vnd.jupyter.widget-view+json": {
       "version_major": 2,
       "version_minor": 0,
       "model_id": "ab2772cfa62340fba91be5a917764358"
      }
     },
     "metadata": {},
     "output_type": "display_data"
    },
    {
     "name": "stdout",
     "output_type": "stream",
     "text": [
      "[ Train | 002/030 ] loss = 0.40365, acc = 0.86742\n",
      "[ Valid | 002/030 ] loss = 0.71336, acc = 0.76637\n"
     ]
    },
    {
     "data": {
      "text/plain": "  0%|          | 0/120 [00:00<?, ?it/s]",
      "application/vnd.jupyter.widget-view+json": {
       "version_major": 2,
       "version_minor": 0,
       "model_id": "bfd7daced97140cea6d0e28679965822"
      }
     },
     "metadata": {},
     "output_type": "display_data"
    },
    {
     "name": "stdout",
     "output_type": "stream",
     "text": [
      "[ Train | 003/030 ] loss = 0.35309, acc = 0.90120\n",
      "[ Valid | 003/030 ] loss = 0.66430, acc = 0.67783\n"
     ]
    },
    {
     "data": {
      "text/plain": "  0%|          | 0/120 [00:00<?, ?it/s]",
      "application/vnd.jupyter.widget-view+json": {
       "version_major": 2,
       "version_minor": 0,
       "model_id": "4ab0bced0bed43e0a2920eda30d85588"
      }
     },
     "metadata": {},
     "output_type": "display_data"
    },
    {
     "name": "stdout",
     "output_type": "stream",
     "text": [
      "[ Train | 004/030 ] loss = 0.31708, acc = 0.92919\n",
      "[ Valid | 004/030 ] loss = 0.65456, acc = 0.73065\n"
     ]
    },
    {
     "data": {
      "text/plain": "  0%|          | 0/120 [00:00<?, ?it/s]",
      "application/vnd.jupyter.widget-view+json": {
       "version_major": 2,
       "version_minor": 0,
       "model_id": "4415b81efeb94998b188a440e7a7761d"
      }
     },
     "metadata": {},
     "output_type": "display_data"
    },
    {
     "name": "stdout",
     "output_type": "stream",
     "text": [
      "[ Train | 005/030 ] loss = 0.30436, acc = 0.93604\n",
      "[ Valid | 005/030 ] loss = 0.68457, acc = 0.76116\n"
     ]
    },
    {
     "data": {
      "text/plain": "  0%|          | 0/120 [00:00<?, ?it/s]",
      "application/vnd.jupyter.widget-view+json": {
       "version_major": 2,
       "version_minor": 0,
       "model_id": "063e5ea419be45b8b76e882fdffc0b35"
      }
     },
     "metadata": {},
     "output_type": "display_data"
    },
    {
     "name": "stdout",
     "output_type": "stream",
     "text": [
      "[ Train | 006/030 ] loss = 0.28882, acc = 0.94487\n",
      "[ Valid | 006/030 ] loss = 0.69454, acc = 0.77753\n"
     ]
    },
    {
     "data": {
      "text/plain": "  0%|          | 0/120 [00:00<?, ?it/s]",
      "application/vnd.jupyter.widget-view+json": {
       "version_major": 2,
       "version_minor": 0,
       "model_id": "be6479c85d68450480db40b314f03cf7"
      }
     },
     "metadata": {},
     "output_type": "display_data"
    },
    {
     "name": "stdout",
     "output_type": "stream",
     "text": [
      "[ Train | 007/030 ] loss = 0.27923, acc = 0.95404\n",
      "[ Valid | 007/030 ] loss = 0.79414, acc = 0.67560\n"
     ]
    },
    {
     "data": {
      "text/plain": "  0%|          | 0/120 [00:00<?, ?it/s]",
      "application/vnd.jupyter.widget-view+json": {
       "version_major": 2,
       "version_minor": 0,
       "model_id": "f9309ad3eaac4a96b83ca7b1a46700a1"
      }
     },
     "metadata": {},
     "output_type": "display_data"
    },
    {
     "name": "stdout",
     "output_type": "stream",
     "text": [
      "[ Train | 008/030 ] loss = 0.26509, acc = 0.96138\n",
      "[ Valid | 008/030 ] loss = 0.60284, acc = 0.78571\n"
     ]
    },
    {
     "data": {
      "text/plain": "  0%|          | 0/120 [00:00<?, ?it/s]",
      "application/vnd.jupyter.widget-view+json": {
       "version_major": 2,
       "version_minor": 0,
       "model_id": "540c8adbd36e4ea8bde01d58eeaf2b8e"
      }
     },
     "metadata": {},
     "output_type": "display_data"
    },
    {
     "name": "stdout",
     "output_type": "stream",
     "text": [
      "[ Train | 009/030 ] loss = 0.26399, acc = 0.96151\n",
      "[ Valid | 009/030 ] loss = 0.71281, acc = 0.71131\n"
     ]
    },
    {
     "data": {
      "text/plain": "  0%|          | 0/120 [00:00<?, ?it/s]",
      "application/vnd.jupyter.widget-view+json": {
       "version_major": 2,
       "version_minor": 0,
       "model_id": "90a27ebc157a4bacbed7d7e800c12d88"
      }
     },
     "metadata": {},
     "output_type": "display_data"
    },
    {
     "name": "stdout",
     "output_type": "stream",
     "text": [
      "[ Train | 010/030 ] loss = 0.25627, acc = 0.96474\n",
      "[ Valid | 010/030 ] loss = 0.67611, acc = 0.73512\n"
     ]
    },
    {
     "data": {
      "text/plain": "  0%|          | 0/120 [00:00<?, ?it/s]",
      "application/vnd.jupyter.widget-view+json": {
       "version_major": 2,
       "version_minor": 0,
       "model_id": "fcd1dd534d464482b6abb24a31c71ee1"
      }
     },
     "metadata": {},
     "output_type": "display_data"
    },
    {
     "name": "stdout",
     "output_type": "stream",
     "text": [
      "[ Train | 011/030 ] loss = 0.25547, acc = 0.96773\n",
      "[ Valid | 011/030 ] loss = 0.65065, acc = 0.73065\n"
     ]
    },
    {
     "data": {
      "text/plain": "  0%|          | 0/120 [00:00<?, ?it/s]",
      "application/vnd.jupyter.widget-view+json": {
       "version_major": 2,
       "version_minor": 0,
       "model_id": "bc1ffaea663541f7a878dc48a09ff494"
      }
     },
     "metadata": {},
     "output_type": "display_data"
    },
    {
     "name": "stdout",
     "output_type": "stream",
     "text": [
      "[ Train | 012/030 ] loss = 0.24826, acc = 0.97271\n",
      "[ Valid | 012/030 ] loss = 0.75513, acc = 0.71131\n"
     ]
    },
    {
     "data": {
      "text/plain": "  0%|          | 0/120 [00:00<?, ?it/s]",
      "application/vnd.jupyter.widget-view+json": {
       "version_major": 2,
       "version_minor": 0,
       "model_id": "c11b96f7f64f41da9c5536d81cef7858"
      }
     },
     "metadata": {},
     "output_type": "display_data"
    },
    {
     "name": "stdout",
     "output_type": "stream",
     "text": [
      "[ Train | 013/030 ] loss = 0.24306, acc = 0.97513\n",
      "[ Valid | 013/030 ] loss = 0.69963, acc = 0.76786\n"
     ]
    },
    {
     "data": {
      "text/plain": "  0%|          | 0/120 [00:00<?, ?it/s]",
      "application/vnd.jupyter.widget-view+json": {
       "version_major": 2,
       "version_minor": 0,
       "model_id": "bea65acebfcf4b14bb81ef145b07a706"
      }
     },
     "metadata": {},
     "output_type": "display_data"
    },
    {
     "name": "stdout",
     "output_type": "stream",
     "text": [
      "[ Train | 014/030 ] loss = 0.24353, acc = 0.97596\n",
      "[ Valid | 014/030 ] loss = 0.67714, acc = 0.75149\n"
     ]
    },
    {
     "data": {
      "text/plain": "  0%|          | 0/120 [00:00<?, ?it/s]",
      "application/vnd.jupyter.widget-view+json": {
       "version_major": 2,
       "version_minor": 0,
       "model_id": "76bf62f274ed4c54b514cfbcdae0be9d"
      }
     },
     "metadata": {},
     "output_type": "display_data"
    },
    {
     "name": "stdout",
     "output_type": "stream",
     "text": [
      "[ Train | 015/030 ] loss = 0.23865, acc = 0.97786\n",
      "[ Valid | 015/030 ] loss = 0.72680, acc = 0.75521\n"
     ]
    },
    {
     "data": {
      "text/plain": "  0%|          | 0/120 [00:00<?, ?it/s]",
      "application/vnd.jupyter.widget-view+json": {
       "version_major": 2,
       "version_minor": 0,
       "model_id": "16ef52e839aa47b888f0a18b7f6084fa"
      }
     },
     "metadata": {},
     "output_type": "display_data"
    },
    {
     "name": "stdout",
     "output_type": "stream",
     "text": [
      "[ Train | 016/030 ] loss = 0.23747, acc = 0.97922\n",
      "[ Valid | 016/030 ] loss = 0.82765, acc = 0.65476\n"
     ]
    },
    {
     "data": {
      "text/plain": "  0%|          | 0/120 [00:00<?, ?it/s]",
      "application/vnd.jupyter.widget-view+json": {
       "version_major": 2,
       "version_minor": 0,
       "model_id": "65b1298918134fb2a2791f134fc61259"
      }
     },
     "metadata": {},
     "output_type": "display_data"
    },
    {
     "name": "stdout",
     "output_type": "stream",
     "text": [
      "[ Train | 017/030 ] loss = 0.23929, acc = 0.97565\n",
      "[ Valid | 017/030 ] loss = 0.79886, acc = 0.69866\n"
     ]
    },
    {
     "data": {
      "text/plain": "  0%|          | 0/120 [00:00<?, ?it/s]",
      "application/vnd.jupyter.widget-view+json": {
       "version_major": 2,
       "version_minor": 0,
       "model_id": "ac258a24f13e4b9c80cdc6007a56611c"
      }
     },
     "metadata": {},
     "output_type": "display_data"
    },
    {
     "name": "stdout",
     "output_type": "stream",
     "text": [
      "[ Train | 018/030 ] loss = 0.23028, acc = 0.98164\n",
      "[ Valid | 018/030 ] loss = 0.82322, acc = 0.69866\n"
     ]
    },
    {
     "data": {
      "text/plain": "  0%|          | 0/120 [00:00<?, ?it/s]",
      "application/vnd.jupyter.widget-view+json": {
       "version_major": 2,
       "version_minor": 0,
       "model_id": "6be440af7d774ef99641e349d782ca9f"
      }
     },
     "metadata": {},
     "output_type": "display_data"
    },
    {
     "name": "stdout",
     "output_type": "stream",
     "text": [
      "[ Train | 019/030 ] loss = 0.23456, acc = 0.98076\n",
      "[ Valid | 019/030 ] loss = 0.84007, acc = 0.73363\n"
     ]
    },
    {
     "data": {
      "text/plain": "  0%|          | 0/120 [00:00<?, ?it/s]",
      "application/vnd.jupyter.widget-view+json": {
       "version_major": 2,
       "version_minor": 0,
       "model_id": "39b4a83db0d3472fa331b89f046366ef"
      }
     },
     "metadata": {},
     "output_type": "display_data"
    },
    {
     "name": "stdout",
     "output_type": "stream",
     "text": [
      "[ Train | 020/030 ] loss = 0.23267, acc = 0.97995\n",
      "[ Valid | 020/030 ] loss = 0.77248, acc = 0.74405\n"
     ]
    },
    {
     "data": {
      "text/plain": "  0%|          | 0/120 [00:00<?, ?it/s]",
      "application/vnd.jupyter.widget-view+json": {
       "version_major": 2,
       "version_minor": 0,
       "model_id": "23d8326171d245ef9959cd5ca49f74f5"
      }
     },
     "metadata": {},
     "output_type": "display_data"
    },
    {
     "name": "stdout",
     "output_type": "stream",
     "text": [
      "[ Train | 021/030 ] loss = 0.23345, acc = 0.98086\n",
      "[ Valid | 021/030 ] loss = 0.77700, acc = 0.71875\n"
     ]
    },
    {
     "data": {
      "text/plain": "  0%|          | 0/120 [00:00<?, ?it/s]",
      "application/vnd.jupyter.widget-view+json": {
       "version_major": 2,
       "version_minor": 0,
       "model_id": "e25e499930bf466fa9d7c64dff248f2f"
      }
     },
     "metadata": {},
     "output_type": "display_data"
    },
    {
     "name": "stdout",
     "output_type": "stream",
     "text": [
      "[ Train | 022/030 ] loss = 0.23000, acc = 0.98208\n",
      "[ Valid | 022/030 ] loss = 0.87876, acc = 0.67485\n"
     ]
    },
    {
     "data": {
      "text/plain": "  0%|          | 0/120 [00:00<?, ?it/s]",
      "application/vnd.jupyter.widget-view+json": {
       "version_major": 2,
       "version_minor": 0,
       "model_id": "f7b7afb62f494fd5a0355a438fb7aada"
      }
     },
     "metadata": {},
     "output_type": "display_data"
    },
    {
     "name": "stdout",
     "output_type": "stream",
     "text": [
      "[ Train | 023/030 ] loss = 0.23174, acc = 0.98104\n",
      "[ Valid | 023/030 ] loss = 0.83388, acc = 0.66667\n"
     ]
    },
    {
     "data": {
      "text/plain": "  0%|          | 0/120 [00:00<?, ?it/s]",
      "application/vnd.jupyter.widget-view+json": {
       "version_major": 2,
       "version_minor": 0,
       "model_id": "e42bfa6fd5234e0db7c7643a17b8c073"
      }
     },
     "metadata": {},
     "output_type": "display_data"
    },
    {
     "name": "stdout",
     "output_type": "stream",
     "text": [
      "[ Train | 024/030 ] loss = 0.22530, acc = 0.98479\n",
      "[ Valid | 024/030 ] loss = 0.73836, acc = 0.74330\n"
     ]
    },
    {
     "data": {
      "text/plain": "  0%|          | 0/120 [00:00<?, ?it/s]",
      "application/vnd.jupyter.widget-view+json": {
       "version_major": 2,
       "version_minor": 0,
       "model_id": "3b6fbc04150040bb8c2e287e63bf504d"
      }
     },
     "metadata": {},
     "output_type": "display_data"
    },
    {
     "name": "stdout",
     "output_type": "stream",
     "text": [
      "[ Train | 025/030 ] loss = 0.22231, acc = 0.98638\n",
      "[ Valid | 025/030 ] loss = 0.87997, acc = 0.69568\n"
     ]
    },
    {
     "data": {
      "text/plain": "  0%|          | 0/120 [00:00<?, ?it/s]",
      "application/vnd.jupyter.widget-view+json": {
       "version_major": 2,
       "version_minor": 0,
       "model_id": "9640d65a65074cd1b324f0b11a228185"
      }
     },
     "metadata": {},
     "output_type": "display_data"
    },
    {
     "name": "stdout",
     "output_type": "stream",
     "text": [
      "[ Train | 026/030 ] loss = 0.22652, acc = 0.98438\n",
      "[ Valid | 026/030 ] loss = 0.86723, acc = 0.65997\n"
     ]
    },
    {
     "data": {
      "text/plain": "  0%|          | 0/120 [00:00<?, ?it/s]",
      "application/vnd.jupyter.widget-view+json": {
       "version_major": 2,
       "version_minor": 0,
       "model_id": "f61f584d1f534c4aa78a64bff37ba2f6"
      }
     },
     "metadata": {},
     "output_type": "display_data"
    },
    {
     "name": "stdout",
     "output_type": "stream",
     "text": [
      "[ Train | 027/030 ] loss = 0.22486, acc = 0.98518\n",
      "[ Valid | 027/030 ] loss = 0.83348, acc = 0.70610\n"
     ]
    },
    {
     "data": {
      "text/plain": "  0%|          | 0/120 [00:00<?, ?it/s]",
      "application/vnd.jupyter.widget-view+json": {
       "version_major": 2,
       "version_minor": 0,
       "model_id": "0bc3a6d519d14fa8b5e68520bc5278f7"
      }
     },
     "metadata": {},
     "output_type": "display_data"
    },
    {
     "name": "stdout",
     "output_type": "stream",
     "text": [
      "[ Train | 028/030 ] loss = 0.23088, acc = 0.98117\n",
      "[ Valid | 028/030 ] loss = 0.61831, acc = 0.79315\n"
     ]
    },
    {
     "data": {
      "text/plain": "  0%|          | 0/120 [00:00<?, ?it/s]",
      "application/vnd.jupyter.widget-view+json": {
       "version_major": 2,
       "version_minor": 0,
       "model_id": "6d208b00273a47b1bf5c01194e8abe72"
      }
     },
     "metadata": {},
     "output_type": "display_data"
    },
    {
     "name": "stdout",
     "output_type": "stream",
     "text": [
      "[ Train | 029/030 ] loss = 0.22922, acc = 0.98229\n",
      "[ Valid | 029/030 ] loss = 0.86699, acc = 0.67932\n"
     ]
    },
    {
     "data": {
      "text/plain": "  0%|          | 0/120 [00:00<?, ?it/s]",
      "application/vnd.jupyter.widget-view+json": {
       "version_major": 2,
       "version_minor": 0,
       "model_id": "dc541644a5d44b649222e356834484bf"
      }
     },
     "metadata": {},
     "output_type": "display_data"
    },
    {
     "name": "stdout",
     "output_type": "stream",
     "text": [
      "[ Train | 030/030 ] loss = 0.22548, acc = 0.98404\n",
      "[ Valid | 030/030 ] loss = 0.75635, acc = 0.73661\n"
     ]
    }
   ],
   "source": [
    "train(30)"
   ],
   "metadata": {
    "collapsed": false,
    "ExecuteTime": {
     "end_time": "2023-07-30T07:31:30.515054300Z",
     "start_time": "2023-07-30T07:18:09.988754300Z"
    }
   }
  },
  {
   "cell_type": "code",
   "execution_count": 38,
   "outputs": [],
   "source": [
    "torch.save(model.state_dict(), './weight/loss_end_of_train')"
   ],
   "metadata": {
    "collapsed": false,
    "ExecuteTime": {
     "end_time": "2023-07-30T07:37:57.466800500Z",
     "start_time": "2023-07-30T07:37:57.332573800Z"
    }
   }
  },
  {
   "cell_type": "code",
   "execution_count": 39,
   "outputs": [
    {
     "data": {
      "text/plain": "<Figure size 640x480 with 1 Axes>",
      "image/png": "[encoded data removed]"
     },
     "metadata": {},
     "output_type": "display_data"
    },
    {
     "data": {
      "text/plain": "<Figure size 640x480 with 1 Axes>",
      "image/png": "[encoded data removed]"
     },
     "metadata": {},
     "output_type": "display_data"
    },
    {
     "data": {
      "text/plain": "<Figure size 640x480 with 1 Axes>",
      "image/png": "[encoded data removed]"
     },
     "metadata": {},
     "output_type": "display_data"
    }
   ],
   "source": [
    "# 绘制折线图\n",
    "plt.plot(total_train_loss, color='red', label='total_train_loss')\n",
    "plt.plot(total_val_loss, color='blue', label='total_val_loss')\n",
    "# 添加图例\n",
    "plt.legend(loc='upper left')\n",
    "plt.show()\n",
    "\n",
    "plt.plot(total_train_loss1, color='red', label='total_train_loss1')\n",
    "plt.plot(total_val_loss1, color='blue', label='total_val_loss1')\n",
    "plt.legend(loc='upper left')\n",
    "plt.show()\n",
    "\n",
    "plt.plot(total_train_acc, color='green', label='total_train_acc')\n",
    "plt.plot(total_val_acc, color='purple', label='total_val_acc')\n",
    "# 添加图例\n",
    "plt.legend(loc='upper left')\n",
    "plt.show()"
   ],
   "metadata": {
    "collapsed": false,
    "ExecuteTime": {
     "end_time": "2023-07-30T07:38:02.103584400Z",
     "start_time": "2023-07-30T07:38:01.903465700Z"
    }
   }
  },
  {
   "cell_type": "code",
   "execution_count": 40,
   "outputs": [],
   "source": [
    "def test_acc(test_loader, model, show=False):\n",
    "    model.eval()\n",
    "    test_accs = []\n",
    "    for batch in test_loader:\n",
    "        imgs, labels = batch\n",
    "        with torch.no_grad():\n",
    "            logits = model(imgs.to(device))\n",
    "        acc = (logits.argmax(dim=-1) == labels.to(device)).float().mean()\n",
    "        test_accs.append(acc)\n",
    "    test_acc = sum(test_accs) / len(test_accs)\n",
    "    if show:\n",
    "        print(\"acc of test is \", test_acc.item())\n",
    "    model.train()\n",
    "    return test_acc.item()"
   ],
   "metadata": {
    "collapsed": false,
    "ExecuteTime": {
     "end_time": "2023-07-30T07:38:34.637303700Z",
     "start_time": "2023-07-30T07:38:34.624472100Z"
    }
   }
  },
  {
   "cell_type": "code",
   "execution_count": 45,
   "outputs": [
    {
     "data": {
      "text/plain": "  0%|          | 0/100 [00:00<?, ?it/s]",
      "application/vnd.jupyter.widget-view+json": {
       "version_major": 2,
       "version_minor": 0,
       "model_id": "db0b9ff636294bb9a9891356eb86543e"
      }
     },
     "metadata": {},
     "output_type": "display_data"
    }
   ],
   "source": [
    "def predict(folder):\n",
    "    result = []\n",
    "    for cur_folder in tqdm(os.listdir(folder)):\n",
    "        path = os.path.join(folder, cur_folder)\n",
    "        test_set = DatasetFolder(path, loader=load_image, extensions=\"jpg\", transform=test_tfm)\n",
    "        test_loader = DataLoader(test_set, batch_size=batch_size, shuffle=True, num_workers=0, pin_memory=False)\n",
    "        score = test_acc(test_loader, model)\n",
    "        result.append((int(cur_folder), score))\n",
    "    df = pd.DataFrame(result, columns=['uuid', 'label'])\n",
    "    return df\n",
    "\n",
    "\n",
    "submit = predict('./PETjpg/test1')"
   ],
   "metadata": {
    "collapsed": false,
    "ExecuteTime": {
     "end_time": "2023-07-30T07:42:46.153408500Z",
     "start_time": "2023-07-30T07:42:30.967433700Z"
    }
   }
  },
  {
   "cell_type": "code",
   "execution_count": 46,
   "outputs": [],
   "source": [
    "submit['label'] = submit['label'].apply(lambda x: 'NC' if x <= 0.85 else 'MCI')\n",
    "submit = submit.sort_values(by='uuid')\n",
    "submit.to_csv('submit.csv', index=None)"
   ],
   "metadata": {
    "collapsed": false,
    "ExecuteTime": {
     "end_time": "2023-07-30T07:42:47.841210900Z",
     "start_time": "2023-07-30T07:42:47.834069300Z"
    }
   }
  }
 ],
 "metadata": {
  "kernelspec": {
   "display_name": "Python 3",
   "language": "python",
   "name": "python3"
  },
  "language_info": {
   "codemirror_mode": {
    "name": "ipython",
    "version": 2
   },
   "file_extension": ".py",
   "mimetype": "text/x-python",
   "name": "python",
   "nbconvert_exporter": "python",
   "pygments_lexer": "ipython2",
   "version": "2.7.6"
  }
 },
 "nbformat": 4,
 "nbformat_minor": 0
}
