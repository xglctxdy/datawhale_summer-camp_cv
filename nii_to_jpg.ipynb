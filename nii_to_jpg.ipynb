{
 "cells": [
  {
   "cell_type": "code",
   "execution_count": 1,
   "metadata": {
    "collapsed": true,
    "ExecuteTime": {
     "end_time": "2023-07-29T04:31:39.971945Z",
     "start_time": "2023-07-29T04:31:39.807985600Z"
    }
   },
   "outputs": [],
   "source": [
    "import numpy as np\n",
    "import os\n",
    "import nibabel as nib\n",
    "import shutil\n",
    "from PIL import Image\n",
    "import random\n",
    "import cv2"
   ]
  },
  {
   "cell_type": "code",
   "execution_count": 2,
   "outputs": [],
   "source": [
    "classes = ['MCI', 'NC']\n",
    "\n",
    "\n",
    "def mkdir(path):\n",
    "    floder = os.path.exists(path)\n",
    "    if not floder:\n",
    "        os.makedirs(path)\n",
    "    else:\n",
    "        pass\n",
    "\n",
    "\n",
    "for i in classes:\n",
    "    file = './PET/val/{}'.format(i)\n",
    "    mkdir(file)"
   ],
   "metadata": {
    "collapsed": false,
    "ExecuteTime": {
     "end_time": "2023-07-29T04:31:46.583909500Z",
     "start_time": "2023-07-29T04:31:46.577769800Z"
    }
   }
  },
  {
   "cell_type": "code",
   "execution_count": 3,
   "outputs": [],
   "source": [
    "def generate_val(t_dir, v_dir, p=0.15):\n",
    "    # 从训练集中抽取一部分当作测试集\n",
    "    pathDir = os.listdir(t_dir)\n",
    "    sample = random.sample(pathDir, int(len(pathDir) * p))\n",
    "    for item in sample:\n",
    "        shutil.move(t_dir + '\\\\' + item, v_dir + '\\\\' + item)\n",
    "    return"
   ],
   "metadata": {
    "collapsed": false,
    "ExecuteTime": {
     "end_time": "2023-07-29T04:31:53.214219600Z",
     "start_time": "2023-07-29T04:31:53.210219600Z"
    }
   }
  },
  {
   "cell_type": "code",
   "execution_count": 4,
   "outputs": [],
   "source": [
    "for i in classes:\n",
    "    train_dir = './PET/train/{}'.format(i)\n",
    "    val_dir = './PET/val/{}'.format(i)\n",
    "    generate_val(train_dir, val_dir)"
   ],
   "metadata": {
    "collapsed": false,
    "ExecuteTime": {
     "end_time": "2023-07-29T04:31:56.914949800Z",
     "start_time": "2023-07-29T04:31:56.901672400Z"
    }
   }
  },
  {
   "cell_type": "code",
   "execution_count": 5,
   "outputs": [],
   "source": [
    "def join_train(source, target):\n",
    "    # 用于将测试集移回训练集\n",
    "    pathDir = os.listdir(source)\n",
    "    for item in pathDir:\n",
    "        shutil.move(source + '\\\\' + item, target + '\\\\' + item)\n",
    "    return"
   ],
   "metadata": {
    "collapsed": false,
    "ExecuteTime": {
     "end_time": "2023-07-29T04:32:09.038869500Z",
     "start_time": "2023-07-29T04:32:09.025570600Z"
    }
   }
  },
  {
   "cell_type": "code",
   "execution_count": 6,
   "outputs": [],
   "source": [
    "for i in classes:\n",
    "    train_dir = './PET/train/{}'.format(i)\n",
    "    val_dir = './PET/val/{}'.format(i)\n",
    "    join_train(val_dir, train_dir)"
   ],
   "metadata": {
    "collapsed": false,
    "ExecuteTime": {
     "end_time": "2023-07-29T04:26:16.145727200Z",
     "start_time": "2023-07-29T04:26:16.121685Z"
    }
   }
  },
  {
   "cell_type": "code",
   "execution_count": 6,
   "outputs": [],
   "source": [
    "def nii_to_jpg(source, target):\n",
    "    # 将source文件夹下面的nii图片全部转为jpg格式，保存在target文件夹下\n",
    "    items = os.listdir(source)\n",
    "    for item in items:\n",
    "        img_sou = os.path.join(source, item)\n",
    "        img = nib.load(img_sou)\n",
    "        img_data = img.get_fdata()\n",
    "        img_data = img_data[:, :, :, 0]\n",
    "        name = item.replace('.nii', '')\n",
    "        img_tar = os.path.join(target, name)\n",
    "        mkdir(img_tar)\n",
    "\n",
    "        (x, y, z) = img_data.shape\n",
    "        for i in range(int(z / 8), int(7 * z / 8)):\n",
    "            slice = img_data[:, :, i]\n",
    "            slice_min = np.min(slice)\n",
    "            slice_max = np.max(slice)\n",
    "            # 归一化处理\n",
    "            slice_normalized = (slice - slice_min) / (slice_max - slice_min)\n",
    "            slice_scaled = (slice_normalized * 255).astype(np.uint8)\n",
    "            slice_image = Image.fromarray(slice_scaled)\n",
    "            slice_image.save(os.path.join(img_tar, '{}.jpg'.format(i)))\n"
   ],
   "metadata": {
    "collapsed": false,
    "ExecuteTime": {
     "end_time": "2023-07-29T04:32:13.319193400Z",
     "start_time": "2023-07-29T04:32:13.310195Z"
    }
   }
  },
  {
   "cell_type": "code",
   "execution_count": 7,
   "outputs": [],
   "source": [
    "base = ['./PET/train/MCI',\n",
    "        './PET/train/NC',\n",
    "        './PET/val/MCI',\n",
    "        './PET/val/NC',\n",
    "        './PET/test']\n",
    "output = ['./PETjpg/train/MCI',\n",
    "          './PETjpg/train/NC',\n",
    "          './PETjpg/val/MCI',\n",
    "          './PETjpg/val/NC',\n",
    "          './PETjpg/test']\n",
    "for i in output:\n",
    "    mkdir(i)\n",
    "for i, j in zip(base, output):\n",
    "    nii_to_jpg(i, j)"
   ],
   "metadata": {
    "collapsed": false,
    "ExecuteTime": {
     "end_time": "2023-07-29T04:32:37.530447800Z",
     "start_time": "2023-07-29T04:32:31.138401800Z"
    }
   }
  },
  {
   "cell_type": "code",
   "execution_count": 8,
   "outputs": [],
   "source": [
    "base = ['PET/train/MCI',\n",
    "        'PET/train/NC',\n",
    "        'PET/val/MCI',\n",
    "        'PET/val/NC',\n",
    "        'PET/test']\n",
    "output = ['PETjpg/train/MCI',\n",
    "          'PETjpg/train/NC',\n",
    "          'PETjpg/val/MCI',\n",
    "          'PETjpg/val/NC',\n",
    "          'PETjpg/test']\n",
    "os.chdir('E:/code/pycharm/MLhw/datawhale/CV/')\n",
    "for cur_dir in output:\n",
    "    # cur_dirs即是01，02，03的文件夹集合\n",
    "    cur_dirs = os.listdir(cur_dir)\n",
    "    for folder in cur_dirs:\n",
    "        # folder代表的是样品编号，即从01-25\n",
    "        folder_dir = os.listdir('E:/code/pycharm/MLhw/datawhale/CV/' + cur_dir + '/' + folder)\n",
    "        os.chdir('E:/code/pycharm/MLhw/datawhale/CV/' + cur_dir + '/' + folder)\n",
    "        for img_num in folder_dir:\n",
    "            os.rename(img_num, folder + '_' + img_num)\n",
    "            # 改名为x_y，表示x号样本的y号切片\n",
    "            shutil.move('E:/code/pycharm/MLhw/datawhale/CV/' + cur_dir + '/' + folder + '/' + folder + '_' + img_num,\n",
    "                        'E:/code/pycharm/MLhw/datawhale/CV/' + cur_dir + '/')\n",
    "    os.chdir('E:/code/pycharm/MLhw/datawhale/CV/')\n",
    "    for folder in cur_dirs:\n",
    "        shutil.rmtree('E:/code/pycharm/MLhw/datawhale/CV/' + cur_dir + '/' + folder)"
   ],
   "metadata": {
    "collapsed": false,
    "ExecuteTime": {
     "end_time": "2023-07-29T04:33:02.741243200Z",
     "start_time": "2023-07-29T04:32:57.358150700Z"
    }
   }
  },
  {
   "cell_type": "code",
   "execution_count": 9,
   "outputs": [
    {
     "name": "stdout",
     "output_type": "stream",
     "text": [
      "936\n",
      "1616\n"
     ]
    }
   ],
   "source": [
    "for i in classes:\n",
    "    train_dir = './PETjpg/train/{}'.format(i)\n",
    "    files = os.listdir(train_dir)\n",
    "    print(len(files))"
   ],
   "metadata": {
    "collapsed": false,
    "ExecuteTime": {
     "end_time": "2023-07-29T04:33:21.144101200Z",
     "start_time": "2023-07-29T04:33:21.129029100Z"
    }
   }
  },
  {
   "cell_type": "code",
   "execution_count": 12,
   "outputs": [],
   "source": [
    "def group_images_by_id(source_folder, target_folder):\n",
    "    # 创建目标文件夹\n",
    "    os.makedirs(target_folder, exist_ok=True)\n",
    "\n",
    "    # 遍历源文件夹中的所有图片\n",
    "    for filename in os.listdir(source_folder):\n",
    "        if filename.endswith('.jpg'):\n",
    "            # 提取图片的组号x和组内编号y\n",
    "            x, y = filename.split('_')\n",
    "            group_folder = os.path.join(target_folder, x, 'NC')\n",
    "\n",
    "            # 如果该组的文件夹不存在，则创建该组的文件夹\n",
    "            os.makedirs(group_folder, exist_ok=True)\n",
    "\n",
    "            # 将图片移动到对应的组文件夹中\n",
    "            src_path = os.path.join(source_folder, filename)\n",
    "            dest_path = os.path.join(group_folder, filename)\n",
    "            shutil.copy(src_path, dest_path)\n",
    "\n",
    "\n",
    "source_folder = './PETjpg/test/NC'\n",
    "target_folder = './PETjpg/test1'\n",
    "group_images_by_id(source_folder, target_folder)"
   ],
   "metadata": {
    "collapsed": false,
    "ExecuteTime": {
     "end_time": "2023-07-29T09:19:21.602605900Z",
     "start_time": "2023-07-29T09:19:15.552171800Z"
    }
   }
  }
 ],
 "metadata": {
  "kernelspec": {
   "display_name": "Python 3",
   "language": "python",
   "name": "python3"
  },
  "language_info": {
   "codemirror_mode": {
    "name": "ipython",
    "version": 2
   },
   "file_extension": ".py",
   "mimetype": "text/x-python",
   "name": "python",
   "nbconvert_exporter": "python",
   "pygments_lexer": "ipython2",
   "version": "2.7.6"
  }
 },
 "nbformat": 4,
 "nbformat_minor": 0
}
